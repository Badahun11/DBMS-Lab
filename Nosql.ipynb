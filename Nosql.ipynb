{
 "cells": [
  {
   "cell_type": "code",
   "execution_count": 15,
   "metadata": {},
   "outputs": [
    {
     "name": "stdout",
     "output_type": "stream",
     "text": [
      "Note: you may need to restart the kernel to use updated packages.Requirement already satisfied: pymongo in c:\\users\\hp\\appdata\\local\\programs\\python\\python312\\lib\\site-packages (4.6.0)\n",
      "Requirement already satisfied: dnspython<3.0.0,>=1.16.0 in c:\\users\\hp\\appdata\\local\\programs\\python\\python312\\lib\\site-packages (from pymongo) (2.4.2)\n",
      "\n"
     ]
    },
    {
     "name": "stderr",
     "output_type": "stream",
     "text": [
      "\n",
      "[notice] A new release of pip is available: 23.2.1 -> 23.3.1\n",
      "[notice] To update, run: python.exe -m pip install --upgrade pip\n"
     ]
    }
   ],
   "source": [
    "pip install pymongo"
   ]
  },
  {
   "cell_type": "code",
   "execution_count": 22,
   "metadata": {},
   "outputs": [],
   "source": [
    "import pymongo\n",
    "client=pymongo.MongoClient(\"mongodb://localhost:27017\")\n",
    "db=client.test"
   ]
  },
  {
   "cell_type": "code",
   "execution_count": 23,
   "metadata": {},
   "outputs": [
    {
     "data": {
      "text/plain": [
       "MongoClient(host=['localhost:27017'], document_class=dict, tz_aware=False, connect=True)"
      ]
     },
     "execution_count": 23,
     "metadata": {},
     "output_type": "execute_result"
    }
   ],
   "source": [
    "client"
   ]
  },
  {
   "cell_type": "code",
   "execution_count": 24,
   "metadata": {},
   "outputs": [],
   "source": [
    "db=client['Badabd']"
   ]
  },
  {
   "cell_type": "code",
   "execution_count": 25,
   "metadata": {},
   "outputs": [],
   "source": [
    "coll_create=db['Employee']"
   ]
  },
  {
   "cell_type": "code",
   "execution_count": 26,
   "metadata": {},
   "outputs": [],
   "source": [
    "data={\n",
    "\"name\":\"Badahun\",\n",
    "\"id\":12345,\n",
    "\"role\":\"Engineer\"\n",
    "}\n"
   ]
  },
  {
   "cell_type": "code",
   "execution_count": 27,
   "metadata": {},
   "outputs": [
    {
     "data": {
      "text/plain": [
       "InsertOneResult(ObjectId('6548ca9ab019fc90d1b87069'), acknowledged=True)"
      ]
     },
     "execution_count": 27,
     "metadata": {},
     "output_type": "execute_result"
    }
   ],
   "source": [
    "coll_create.insert_one(data)"
   ]
  },
  {
   "cell_type": "code",
   "execution_count": 31,
   "metadata": {},
   "outputs": [],
   "source": [
    "data1={\n",
    "\"mail\"\n",
    ":\n",
    "\"hari@gmail.com\"\n",
    ",\n",
    "\"phone\"\n",
    ":\n",
    "9861298765\n",
    "}"
   ]
  },
  {
   "cell_type": "code",
   "execution_count": 32,
   "metadata": {},
   "outputs": [
    {
     "data": {
      "text/plain": [
       "InsertOneResult(ObjectId('6548ccc5b019fc90d1b8706b'), acknowledged=True)"
      ]
     },
     "execution_count": 32,
     "metadata": {},
     "output_type": "execute_result"
    }
   ],
   "source": [
    "coll_create.insert_one(data1)"
   ]
  },
  {
   "cell_type": "code",
   "execution_count": 33,
   "metadata": {},
   "outputs": [],
   "source": [
    "data2={\n",
    "\"skills\":[\"C\",\"Java\",\"Python\"],\n",
    "\"language\":[\"Hindi\",\"English\"]\n",
    "}\n"
   ]
  },
  {
   "cell_type": "code",
   "execution_count": 34,
   "metadata": {},
   "outputs": [
    {
     "data": {
      "text/plain": [
       "InsertOneResult(ObjectId('6548cd17b019fc90d1b8706c'), acknowledged=True)"
      ]
     },
     "execution_count": 34,
     "metadata": {},
     "output_type": "execute_result"
    }
   ],
   "source": [
    "coll_create.insert_one(data2)"
   ]
  },
  {
   "cell_type": "code",
   "execution_count": 37,
   "metadata": {},
   "outputs": [],
   "source": [
    "data3=[\n",
    "{\"name\": \"Amy\", \"address\": \"Apple st 652\" },\n",
    "{\"name\":\"Hannah\", \"address\": \"Mountain 21\" },\n",
    "{\"name\":\"Michael\", \"address\": \"Valley 345\" },\n",
    "{\"name\": \"Sandy\", \"address\": \"Ocean blvd 2\" },\n",
    "{\"name\": \"Betty\", \"address\": \"Green Grass 1\" },\n",
    "{\"name\":\"Richard\", \"address\": \"Sky st 331\" }\n",
    "]\n"
   ]
  },
  {
   "cell_type": "code",
   "execution_count": 38,
   "metadata": {},
   "outputs": [
    {
     "data": {
      "text/plain": [
       "InsertManyResult([ObjectId('6548cd86b019fc90d1b87073'), ObjectId('6548cd86b019fc90d1b87074'), ObjectId('6548cd86b019fc90d1b87075'), ObjectId('6548cd86b019fc90d1b87076'), ObjectId('6548cd86b019fc90d1b87077'), ObjectId('6548cd86b019fc90d1b87078')], acknowledged=True)"
      ]
     },
     "execution_count": 38,
     "metadata": {},
     "output_type": "execute_result"
    }
   ],
   "source": [
    "coll_create.insert_many(data3)"
   ]
  },
  {
   "cell_type": "code",
   "execution_count": 40,
   "metadata": {},
   "outputs": [
    {
     "name": "stdout",
     "output_type": "stream",
     "text": [
      "{'_id': ObjectId('6548ca9ab019fc90d1b87069'), 'name': 'Badahun', 'id': 12345, 'role': 'Engineer'}\n",
      "{'_id': ObjectId('6548cb57b019fc90d1b8706a'), 'mail': 'hari@gmail.com', 'phone': 9861298765}\n",
      "{'_id': ObjectId('6548ccc5b019fc90d1b8706b'), 'mail': 'hari@gmail.com', 'phone': 9861298765}\n",
      "{'_id': ObjectId('6548cd17b019fc90d1b8706c'), 'skills': ['C', 'Java', 'Python'], 'language': ['Hindi', 'English']}\n",
      "{'_id': ObjectId('6548cd59b019fc90d1b8706d'), 'name': 'Amy', 'address': 'Apple st 652'}\n",
      "{'_id': ObjectId('6548cd59b019fc90d1b8706e'), 'name': 'Hannah', 'address': 'Mountain 21'}\n",
      "{'_id': ObjectId('6548cd59b019fc90d1b8706f'), 'name': 'Michael', 'address': 'Valley 345'}\n",
      "{'_id': ObjectId('6548cd59b019fc90d1b87070'), 'name': 'Sandy', 'address': 'Ocean blvd 2'}\n",
      "{'_id': ObjectId('6548cd59b019fc90d1b87071'), 'name': 'Betty', 'address': 'Green Grass 1'}\n",
      "{'_id': ObjectId('6548cd59b019fc90d1b87072'), 'name': 'Richard', 'address': 'Sky st 331'}\n",
      "{'_id': ObjectId('6548cd86b019fc90d1b87073'), 'name': 'Amy', 'address': 'Apple st 652'}\n",
      "{'_id': ObjectId('6548cd86b019fc90d1b87074'), 'name': 'Hannah', 'address': 'Mountain 21'}\n",
      "{'_id': ObjectId('6548cd86b019fc90d1b87075'), 'name': 'Michael', 'address': 'Valley 345'}\n",
      "{'_id': ObjectId('6548cd86b019fc90d1b87076'), 'name': 'Sandy', 'address': 'Ocean blvd 2'}\n",
      "{'_id': ObjectId('6548cd86b019fc90d1b87077'), 'name': 'Betty', 'address': 'Green Grass 1'}\n",
      "{'_id': ObjectId('6548cd86b019fc90d1b87078'), 'name': 'Richard', 'address': 'Sky st 331'}\n"
     ]
    }
   ],
   "source": [
    "for i in coll_create.find(): #selecting all data\n",
    " print(i)\n"
   ]
  },
  {
   "cell_type": "code",
   "execution_count": 41,
   "metadata": {},
   "outputs": [
    {
     "data": {
      "text/plain": [
       "{'_id': ObjectId('6548ca9ab019fc90d1b87069'),\n",
       " 'name': 'Badahun',\n",
       " 'id': 12345,\n",
       " 'role': 'Engineer'}"
      ]
     },
     "execution_count": 41,
     "metadata": {},
     "output_type": "execute_result"
    }
   ],
   "source": [
    "coll_create.find_one() #selecting only one data\n"
   ]
  },
  {
   "cell_type": "code",
   "execution_count": 43,
   "metadata": {},
   "outputs": [
    {
     "name": "stdout",
     "output_type": "stream",
     "text": [
      "{'_id': ObjectId('6548cd59b019fc90d1b87070'), 'name': 'Sandy', 'address': 'Ocean blvd 2'}\n",
      "{'_id': ObjectId('6548cd86b019fc90d1b87076'), 'name': 'Sandy', 'address': 'Ocean blvd 2'}\n"
     ]
    }
   ],
   "source": [
    "for i in coll_create.find({'name':'Sandy'}): #finding data using condition\n",
    " print(i)\n"
   ]
  },
  {
   "cell_type": "markdown",
   "metadata": {},
   "source": [
    "PRODUCT COLLECTION"
   ]
  },
  {
   "cell_type": "code",
   "execution_count": 44,
   "metadata": {},
   "outputs": [],
   "source": [
    "prod=db['products']\n"
   ]
  },
  {
   "cell_type": "code",
   "execution_count": 45,
   "metadata": {},
   "outputs": [],
   "source": [
    "prod_data=[\n",
    "{ \"ProductID\": 1, \"Name\": \"Laptop\", \"Price\": 999, \"Category\": \"Electronics\" },\n",
    "{ \"ProductID\": 2, \"Name\": \"T-shirt\", \"Price\": 20, \"Category\": \"Clothing\" },\n",
    "{ \"ProductID\": 3, \"Name\": \"Headphones\", \"Price\": 50, \"Category\": \"Electronics\" }\n",
    "]"
   ]
  },
  {
   "cell_type": "code",
   "execution_count": 46,
   "metadata": {},
   "outputs": [
    {
     "data": {
      "text/plain": [
       "InsertManyResult([ObjectId('6548ce20b019fc90d1b87079'), ObjectId('6548ce20b019fc90d1b8707a'), ObjectId('6548ce20b019fc90d1b8707b')], acknowledged=True)"
      ]
     },
     "execution_count": 46,
     "metadata": {},
     "output_type": "execute_result"
    }
   ],
   "source": [
    "prod.insert_many(prod_data)\n"
   ]
  },
  {
   "cell_type": "code",
   "execution_count": 47,
   "metadata": {},
   "outputs": [
    {
     "name": "stdout",
     "output_type": "stream",
     "text": [
      "{'_id': ObjectId('6548ce20b019fc90d1b87079'), 'ProductID': 1, 'Name': 'Laptop', 'Price': 999, 'Category': 'Electronics'}\n",
      "{'_id': ObjectId('6548ce20b019fc90d1b8707a'), 'ProductID': 2, 'Name': 'T-shirt', 'Price': 20, 'Category': 'Clothing'}\n",
      "{'_id': ObjectId('6548ce20b019fc90d1b8707b'), 'ProductID': 3, 'Name': 'Headphones', 'Price': 50, 'Category': 'Electronics'}\n"
     ]
    }
   ],
   "source": [
    "for i in prod.find():\n",
    " print(i)"
   ]
  },
  {
   "cell_type": "markdown",
   "metadata": {},
   "source": [
    "Write a MongoDB query to find all products in the \"Electronics\" category"
   ]
  },
  {
   "cell_type": "code",
   "execution_count": 48,
   "metadata": {},
   "outputs": [
    {
     "name": "stdout",
     "output_type": "stream",
     "text": [
      "{'_id': ObjectId('6548ce20b019fc90d1b87079'), 'ProductID': 1, 'Name': 'Laptop', 'Price': 999, 'Category': 'Electronics'}\n",
      "{'_id': ObjectId('6548ce20b019fc90d1b8707b'), 'ProductID': 3, 'Name': 'Headphones', 'Price': 50, 'Category': 'Electronics'}\n"
     ]
    }
   ],
   "source": [
    "for i in prod.find({'Category': 'Electronics'}):\n",
    " print(i)\n"
   ]
  },
  {
   "cell_type": "markdown",
   "metadata": {},
   "source": [
    "find all the products whose price is greaterthan or equals to 50\n"
   ]
  },
  {
   "cell_type": "code",
   "execution_count": 49,
   "metadata": {},
   "outputs": [
    {
     "name": "stdout",
     "output_type": "stream",
     "text": [
      "{'_id': ObjectId('6548ce20b019fc90d1b87079'), 'ProductID': 1, 'Name': 'Laptop', 'Price': 999, 'Category': 'Electronics'}\n",
      "{'_id': ObjectId('6548ce20b019fc90d1b8707b'), 'ProductID': 3, 'Name': 'Headphones', 'Price': 50, 'Category': 'Electronics'}\n"
     ]
    }
   ],
   "source": [
    "for i in prod.find({'Price': {'$gte':50}}):\n",
    " print(i)\n"
   ]
  },
  {
   "cell_type": "markdown",
   "metadata": {},
   "source": [
    "Show only Name and Price of all data\n"
   ]
  },
  {
   "cell_type": "code",
   "execution_count": 50,
   "metadata": {},
   "outputs": [
    {
     "name": "stdout",
     "output_type": "stream",
     "text": [
      "{'_id': ObjectId('6548ce20b019fc90d1b87079'), 'Name': 'Laptop', 'Price': 999}\n",
      "{'_id': ObjectId('6548ce20b019fc90d1b8707a'), 'Name': 'T-shirt', 'Price': 20}\n",
      "{'_id': ObjectId('6548ce20b019fc90d1b8707b'), 'Name': 'Headphones', 'Price': 50}\n"
     ]
    }
   ],
   "source": [
    "for i in prod.find({},{\"Name\":1,\"Price\":1}):\n",
    " print(i)"
   ]
  },
  {
   "cell_type": "markdown",
   "metadata": {},
   "source": [
    "Show only Name and Price of all data excluding _id\n"
   ]
  },
  {
   "cell_type": "code",
   "execution_count": 51,
   "metadata": {},
   "outputs": [
    {
     "name": "stdout",
     "output_type": "stream",
     "text": [
      "{'Name': 'Laptop', 'Price': 999}\n",
      "{'Name': 'T-shirt', 'Price': 20}\n",
      "{'Name': 'Headphones', 'Price': 50}\n"
     ]
    }
   ],
   "source": [
    "for i in prod.find({},{\"_id\":0,\"Name\":1,\"Price\":1}):\n",
    " print(i)\n"
   ]
  },
  {
   "cell_type": "markdown",
   "metadata": {},
   "source": [
    "show all data excluding Price\n"
   ]
  },
  {
   "cell_type": "code",
   "execution_count": 52,
   "metadata": {},
   "outputs": [
    {
     "name": "stdout",
     "output_type": "stream",
     "text": [
      "{'_id': ObjectId('6548ce20b019fc90d1b87079'), 'ProductID': 1, 'Name': 'Laptop', 'Category': 'Electronics'}\n",
      "{'_id': ObjectId('6548ce20b019fc90d1b8707a'), 'ProductID': 2, 'Name': 'T-shirt', 'Category': 'Clothing'}\n",
      "{'_id': ObjectId('6548ce20b019fc90d1b8707b'), 'ProductID': 3, 'Name': 'Headphones', 'Category': 'Electronics'}\n"
     ]
    }
   ],
   "source": [
    "for i in prod.find({},{\"Price\":0}):\n",
    " print(i)\n"
   ]
  },
  {
   "cell_type": "markdown",
   "metadata": {},
   "source": [
    "Show all the products in ascending order of Price"
   ]
  },
  {
   "cell_type": "code",
   "execution_count": 53,
   "metadata": {},
   "outputs": [
    {
     "name": "stdout",
     "output_type": "stream",
     "text": [
      "{'_id': ObjectId('6548ce20b019fc90d1b8707a'), 'ProductID': 2, 'Name': 'T-shirt', 'Price': 20, 'Category': 'Clothing'}\n",
      "{'_id': ObjectId('6548ce20b019fc90d1b8707b'), 'ProductID': 3, 'Name': 'Headphones', 'Price': 50, 'Category': 'Electronics'}\n",
      "{'_id': ObjectId('6548ce20b019fc90d1b87079'), 'ProductID': 1, 'Name': 'Laptop', 'Price': 999, 'Category': 'Electronics'}\n"
     ]
    }
   ],
   "source": [
    "for i in prod.find().sort({\"Price\":1}):\n",
    " print(i)\n"
   ]
  },
  {
   "cell_type": "markdown",
   "metadata": {},
   "source": [
    "show the product having highest price.\n"
   ]
  },
  {
   "cell_type": "code",
   "execution_count": 54,
   "metadata": {},
   "outputs": [
    {
     "name": "stdout",
     "output_type": "stream",
     "text": [
      "{'_id': ObjectId('6548ce20b019fc90d1b87079'), 'ProductID': 1, 'Name': 'Laptop', 'Price': 999, 'Category': 'Electronics'}\n"
     ]
    }
   ],
   "source": [
    "for i in prod.find().sort({\"Price\":-1}).limit(1):\n",
    " print(i)\n"
   ]
  },
  {
   "cell_type": "markdown",
   "metadata": {},
   "source": [
    "Update the price of the \"Laptop\" to $1099.\n"
   ]
  },
  {
   "cell_type": "code",
   "execution_count": 55,
   "metadata": {},
   "outputs": [
    {
     "data": {
      "text/plain": [
       "UpdateResult({'n': 1, 'nModified': 1, 'ok': 1.0, 'updatedExisting': True}, acknowledged=True)"
      ]
     },
     "execution_count": 55,
     "metadata": {},
     "output_type": "execute_result"
    }
   ],
   "source": [
    "prod.update_one({ \"Name\": \"Laptop\" }, { \"$set\": { \"Price\": 1099 } })\n"
   ]
  },
  {
   "cell_type": "code",
   "execution_count": 56,
   "metadata": {},
   "outputs": [
    {
     "name": "stdout",
     "output_type": "stream",
     "text": [
      "{'_id': ObjectId('6548ce20b019fc90d1b87079'), 'ProductID': 1, 'Name': 'Laptop', 'Price': 1099, 'Category': 'Electronics'}\n",
      "{'_id': ObjectId('6548ce20b019fc90d1b8707a'), 'ProductID': 2, 'Name': 'T-shirt', 'Price': 20, 'Category': 'Clothing'}\n",
      "{'_id': ObjectId('6548ce20b019fc90d1b8707b'), 'ProductID': 3, 'Name': 'Headphones', 'Price': 50, 'Category': 'Electronics'}\n"
     ]
    }
   ],
   "source": [
    "for i in prod.find():\n",
    " print(i)\n"
   ]
  },
  {
   "cell_type": "markdown",
   "metadata": {},
   "source": [
    "Increment Price of Every products by $10\n"
   ]
  },
  {
   "cell_type": "code",
   "execution_count": 57,
   "metadata": {},
   "outputs": [
    {
     "data": {
      "text/plain": [
       "UpdateResult({'n': 3, 'nModified': 3, 'ok': 1.0, 'updatedExisting': True}, acknowledged=True)"
      ]
     },
     "execution_count": 57,
     "metadata": {},
     "output_type": "execute_result"
    }
   ],
   "source": [
    "prod.update_many({},{\"$inc\":{\"Price\":10}})\n"
   ]
  },
  {
   "cell_type": "code",
   "execution_count": 58,
   "metadata": {},
   "outputs": [
    {
     "name": "stdout",
     "output_type": "stream",
     "text": [
      "{'_id': ObjectId('6548ce20b019fc90d1b87079'), 'ProductID': 1, 'Name': 'Laptop', 'Price': 1109, 'Category': 'Electronics'}\n",
      "{'_id': ObjectId('6548ce20b019fc90d1b8707a'), 'ProductID': 2, 'Name': 'T-shirt', 'Price': 30, 'Category': 'Clothing'}\n",
      "{'_id': ObjectId('6548ce20b019fc90d1b8707b'), 'ProductID': 3, 'Name': 'Headphones', 'Price': 60, 'Category': 'Electronics'}\n"
     ]
    }
   ],
   "source": [
    "for i in prod.find():\n",
    " print(i)"
   ]
  },
  {
   "cell_type": "code",
   "execution_count": 59,
   "metadata": {},
   "outputs": [
    {
     "data": {
      "text/plain": [
       "UpdateResult({'n': 3, 'nModified': 3, 'ok': 1.0, 'updatedExisting': True}, acknowledged=True)"
      ]
     },
     "execution_count": 59,
     "metadata": {},
     "output_type": "execute_result"
    }
   ],
   "source": [
    "prod.update_many({},{\"$inc\":{\"Price\":-20}})"
   ]
  },
  {
   "cell_type": "code",
   "execution_count": 60,
   "metadata": {},
   "outputs": [
    {
     "name": "stdout",
     "output_type": "stream",
     "text": [
      "{'_id': ObjectId('6548ce20b019fc90d1b87079'), 'ProductID': 1, 'Name': 'Laptop', 'Price': 1089, 'Category': 'Electronics'}\n",
      "{'_id': ObjectId('6548ce20b019fc90d1b8707a'), 'ProductID': 2, 'Name': 'T-shirt', 'Price': 10, 'Category': 'Clothing'}\n",
      "{'_id': ObjectId('6548ce20b019fc90d1b8707b'), 'ProductID': 3, 'Name': 'Headphones', 'Price': 40, 'Category': 'Electronics'}\n"
     ]
    }
   ],
   "source": [
    "for i in prod.find():\n",
    " print(i)"
   ]
  },
  {
   "cell_type": "markdown",
   "metadata": {},
   "source": [
    "Calculate the average price of all products in the \"Electronics\" category.\n"
   ]
  },
  {
   "cell_type": "code",
   "execution_count": 61,
   "metadata": {},
   "outputs": [],
   "source": [
    "pipeline=[{\"$match\":{'Category': 'Electronics'}},{ \"$group\": { '_id': 'null', 'avgPrice': { '$avg': \"$Price\" } } }]\n"
   ]
  },
  {
   "cell_type": "code",
   "execution_count": 62,
   "metadata": {},
   "outputs": [
    {
     "name": "stdout",
     "output_type": "stream",
     "text": [
      "[{'_id': 'null', 'avgPrice': 564.5}]\n"
     ]
    }
   ],
   "source": [
    "avg_price=list(prod.aggregate(pipeline))\n",
    "print(avg_price)"
   ]
  },
  {
   "cell_type": "markdown",
   "metadata": {},
   "source": [
    "Remove the product with ProductID 2 from the \"Product\" collection."
   ]
  },
  {
   "cell_type": "code",
   "execution_count": 63,
   "metadata": {},
   "outputs": [
    {
     "data": {
      "text/plain": [
       "DeleteResult({'n': 1, 'ok': 1.0}, acknowledged=True)"
      ]
     },
     "execution_count": 63,
     "metadata": {},
     "output_type": "execute_result"
    }
   ],
   "source": [
    "prod.delete_one({'ProductID': 2})\n"
   ]
  },
  {
   "cell_type": "code",
   "execution_count": 64,
   "metadata": {},
   "outputs": [
    {
     "name": "stdout",
     "output_type": "stream",
     "text": [
      "{'_id': ObjectId('6548ce20b019fc90d1b87079'), 'ProductID': 1, 'Name': 'Laptop', 'Price': 1089, 'Category': 'Electronics'}\n",
      "{'_id': ObjectId('6548ce20b019fc90d1b8707b'), 'ProductID': 3, 'Name': 'Headphones', 'Price': 40, 'Category': 'Electronics'}\n"
     ]
    }
   ],
   "source": [
    "\n",
    "for i in prod.find():\n",
    " print(i)\n"
   ]
  },
  {
   "cell_type": "markdown",
   "metadata": {},
   "source": [
    "Delete all the data from Product whose Price is greater than $100\n"
   ]
  },
  {
   "cell_type": "code",
   "execution_count": 65,
   "metadata": {},
   "outputs": [
    {
     "data": {
      "text/plain": [
       "DeleteResult({'n': 1, 'ok': 1.0}, acknowledged=True)"
      ]
     },
     "execution_count": 65,
     "metadata": {},
     "output_type": "execute_result"
    }
   ],
   "source": [
    "prod.delete_many({'Price':{'$gt':100}})"
   ]
  },
  {
   "cell_type": "code",
   "execution_count": 66,
   "metadata": {},
   "outputs": [
    {
     "name": "stdout",
     "output_type": "stream",
     "text": [
      "{'_id': ObjectId('6548ce20b019fc90d1b8707b'), 'ProductID': 3, 'Name': 'Headphones', 'Price': 40, 'Category': 'Electronics'}\n"
     ]
    }
   ],
   "source": [
    "for i in prod.find():\n",
    " print(i)\n"
   ]
  }
 ],
 "metadata": {
  "kernelspec": {
   "display_name": "Python 3",
   "language": "python",
   "name": "python3"
  },
  "language_info": {
   "codemirror_mode": {
    "name": "ipython",
    "version": 3
   },
   "file_extension": ".py",
   "mimetype": "text/x-python",
   "name": "python",
   "nbconvert_exporter": "python",
   "pygments_lexer": "ipython3",
   "version": "3.12.0"
  }
 },
 "nbformat": 4,
 "nbformat_minor": 2
}
